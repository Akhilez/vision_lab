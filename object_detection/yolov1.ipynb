{
 "cells": [
  {
   "cell_type": "markdown",
   "source": [
    "# YOLO v1\n",
    "\n",
    "[paper](https://arxiv.org/pdf/1506.02640.pdf)\n",
    "\n",
    "Key points:\n",
    "\n",
    "- S x S grid. S = 7\n",
    "- predicts B boxes for each cell. B = 2\n",
    "- Responsible cell:\n",
    "    - the cell that contains bbox midpoint.\n",
    "    - Among B predicted boxes, only the one that has highest IoU will be responsible.\n",
    "- predicts confidence each cell. confidence = IoU\n",
    "- predicts x, y, w, h each cell:\n",
    "    - x, y: they are midpoint coordinates relative to cell origin, h, w.\n",
    "        Meaning, cell h, w are 1, 1, and x, y will be in [0, 1]\n",
    "    - h, w: they are bbox height, width relative to whole image.\n",
    "- predicts C classes each cell.\n",
    "- All are trained only when the cell is responsible for a bbox.\n",
    "- Each cell can only predict 1 object. although it tries to predict B bboxes\n",
    "- Predicted tensor is of shape [S, S, (C + 5B)]\n",
    "- Architecture is simply a CNN followed by a flatten and fully-connected layers.\n",
    "- While inference, multiply C probabilities with predicted confidence.\n",
    "- While inference, apply NMS\n",
    "- All losses are MSE variations.\n",
    "\n",
    "Hyperparams:\n",
    "- leaky relu\n",
    "- batch size 64\n",
    "- epochs 135 (with pre-trained)\n",
    "- momentum 0.9\n",
    "- decay: 0.0005\n",
    "- lr:\n",
    "    - 10^-3 for few epochs.\n",
    "    - 10^-2 for +75 epochs\n",
    "    - 10^-3 for +30 epochs.\n",
    "    - 10^-4 for +30 epochs.\n",
    "- Extensive augmentation:\n",
    "    - Random scaling and translation up to 20%\n",
    "    - randomly adjust the exposure and saturation of the image by up to a factor of 1.5 in the HSV color space.\n",
    "- dropout of 0.5 on last fully-connected\n",
    "-\n"
   ],
   "metadata": {
    "collapsed": false
   }
  },
  {
   "cell_type": "code",
   "execution_count": null,
   "outputs": [],
   "source": [
    "! pip install pytorch-lightning"
   ],
   "metadata": {
    "collapsed": false,
    "pycharm": {
     "name": "#%%\n"
    }
   }
  },
  {
   "cell_type": "code",
   "execution_count": null,
   "outputs": [],
   "source": [
    "import torch\n",
    "import torch.nn as nn\n",
    "from typing import List, Union\n",
    "import pytorch_lightning as pl"
   ],
   "metadata": {
    "collapsed": false,
    "pycharm": {
     "name": "#%%\n"
    }
   }
  },
  {
   "cell_type": "code",
   "execution_count": null,
   "outputs": [],
   "source": [
    "\"\"\"\n",
    "Information about architecture config:\n",
    "- Tuple is structured by (kernel_size, filters, stride, padding)\n",
    "- \"M\" is simply maxpooling with stride 2x2 and kernel 2x2\n",
    "- List is structured by tuples and lastly int with number of repeats\n",
    "\"\"\"\n",
    "\n",
    "architecture_config = [\n",
    "    (7, 64, 2, 3),\n",
    "    \"M\",\n",
    "    (3, 192, 1, 1),\n",
    "    \"M\",\n",
    "    (1, 128, 1, 0),\n",
    "    (3, 256, 1, 1),\n",
    "    (1, 256, 1, 0),\n",
    "    (3, 512, 1, 1),\n",
    "    \"M\",\n",
    "    [(1, 256, 1, 0), (3, 512, 1, 1), 4],\n",
    "    (1, 512, 1, 0),\n",
    "    (3, 1024, 1, 1),\n",
    "    \"M\",\n",
    "    [(1, 512, 1, 0), (3, 1024, 1, 1), 2],\n",
    "    (3, 1024, 1, 1),\n",
    "    (3, 1024, 2, 1),\n",
    "    (3, 1024, 1, 1),\n",
    "    (3, 1024, 1, 1),\n",
    "]"
   ],
   "metadata": {
    "collapsed": false,
    "pycharm": {
     "name": "#%%\n"
    }
   }
  },
  {
   "cell_type": "code",
   "execution_count": null,
   "outputs": [],
   "source": [
    "class CNNBlock(nn.Module):\n",
    "    def __init__(self, in_channels, out_channels, **kwargs):\n",
    "        super(CNNBlock, self).__init__()\n",
    "        self.conv = nn.Conv2d(in_channels, out_channels, bias=False, **kwargs)\n",
    "        self.batchnorm = nn.BatchNorm2d(out_channels)\n",
    "        self.leakyrelu = nn.LeakyReLU(0.1)\n",
    "\n",
    "    def forward(self, x):\n",
    "        return self.leakyrelu(self.batchnorm(self.conv(x)))\n",
    "\n",
    "\n",
    "class SimpleCNN(nn.Module):\n",
    "    def __init__(\n",
    "        self,\n",
    "        architecture: List[Union[tuple, str, list]],\n",
    "        in_channels: int,\n",
    "    ):\n",
    "        super(SimpleCNN, self).__init__()\n",
    "        layers = []\n",
    "        for module in architecture:\n",
    "            if type(module) is tuple:\n",
    "                layers.append(self._get_cnn_block(module, in_channels))\n",
    "                in_channels = module[1]\n",
    "            elif module == 'M':\n",
    "                layers.append(nn.MaxPool2d(\n",
    "                    kernel_size=(2, 2),\n",
    "                    stride=(2, 2),\n",
    "                ))\n",
    "            elif type(module) is list:\n",
    "                for i in range(module[-1]):\n",
    "                    for j in range(len(module) - 1):\n",
    "                        layers.append(self._get_cnn_block(module[j], in_channels))\n",
    "                        in_channels = module[j][1]\n",
    "        self.model = nn.Sequential(*layers)\n",
    "\n",
    "    @staticmethod\n",
    "    def _get_cnn_block(module: tuple, in_channels):\n",
    "        kernel_size, filters, stride, padding = module\n",
    "        return CNNBlock(\n",
    "            in_channels,\n",
    "            filters,\n",
    "            kernel_size=kernel_size,\n",
    "            stride=stride,\n",
    "            padding=padding,\n",
    "        )\n",
    "\n",
    "    def forward(self, x):\n",
    "        return self.model(x)\n",
    "\n",
    "\n",
    "class YoloV1(nn.Module):\n",
    "    def __init__(self, in_channels, split_size, num_boxes, num_classes):\n",
    "        super(YoloV1, self).__init__()\n",
    "        self.darknet = SimpleCNN(architecture_config, in_channels)\n",
    "\n",
    "        S, B, C = split_size, num_boxes, num_classes\n",
    "        self.fcs = nn.Sequential(\n",
    "            nn.Flatten(),\n",
    "\n",
    "            nn.Linear(1024 * S * S, 496),\n",
    "            nn.Dropout(0.1),\n",
    "            nn.LeakyReLU(0.1),\n",
    "\n",
    "            nn.Linear(496, S * S * (C + B * 5)),\n",
    "        )\n",
    "        self.final_shape = (-1, S, S, (C + B * 5))\n",
    "\n",
    "    def forward(self, x):\n",
    "        x = self.darknet(x)\n",
    "        out = self.fcs(torch.flatten(x, start_dim=1))\n",
    "        out = out.view(self.final_shape)\n",
    "        return out"
   ],
   "metadata": {
    "collapsed": false,
    "pycharm": {
     "name": "#%%\n"
    }
   }
  },
  {
   "cell_type": "code",
   "execution_count": null,
   "outputs": [],
   "source": [
    "model = YoloV1(in_channels=3, split_size=7, num_boxes=2, num_classes=21)\n",
    "random_batch = torch.rand((2, 3, 448, 448))\n",
    "random_output = model(random_batch)\n",
    "random_output.shape"
   ],
   "metadata": {
    "collapsed": false,
    "pycharm": {
     "name": "#%%\n"
    }
   }
  },
  {
   "cell_type": "code",
   "execution_count": null,
   "outputs": [],
   "source": [
    "class YoloV1Loss(nn.Module):\n",
    "    def __init__(self, num_boxes: int, num_classes: int):\n",
    "        super().__init__()\n",
    "\n",
    "        self.num_boxes = num_boxes\n",
    "        self.num_classes = num_classes\n",
    "\n",
    "    def forward(self, pred, true):\n",
    "        pass\n"
   ],
   "metadata": {
    "collapsed": false,
    "pycharm": {
     "name": "#%%\n"
    }
   }
  },
  {
   "cell_type": "code",
   "execution_count": null,
   "outputs": [],
   "source": [
    "class YoloV1PL(pl.LightningModule):\n",
    "    def __init__(self):\n",
    "        super().__init__()\n",
    "        self.yolo_v1 = YoloV1(\n",
    "            in_channels=3,\n",
    "            split_size=7,\n",
    "            num_boxes=2,\n",
    "            num_classes=21\n",
    "        )\n",
    "\n",
    "    def forward(self, x):\n",
    "        return self.yolo_v1(x)\n",
    "\n",
    "    def configure_optimizers(self):\n",
    "        return torch.optim.Adam(self.parameters(), lr=1e-3)\n",
    "\n",
    "    def training_step(self, train_batch, batch_idx):\n",
    "        x, y = train_batch\n",
    "        x = x.view(x.size(0), -1)\n",
    "        z = self.encoder(x)\n",
    "        x_hat = self.decoder(z)\n",
    "        loss = F.mse_loss(x_hat, x)\n",
    "        self.log('train_loss', loss)\n",
    "        return loss\n",
    "\n",
    "    def validation_step(self, val_batch, batch_idx):\n",
    "        x, y = val_batch\n",
    "        x = x.view(x.size(0), -1)\n",
    "        z = self.encoder(x)\n",
    "        x_hat = self.decoder(z)\n",
    "        loss = F.mse_loss(x_hat, x)\n",
    "        self.log('val_loss', loss)"
   ],
   "metadata": {
    "collapsed": false,
    "pycharm": {
     "name": "#%%\n"
    }
   }
  }
 ],
 "metadata": {
  "kernelspec": {
   "display_name": "Python 3",
   "language": "python",
   "name": "python3"
  },
  "language_info": {
   "codemirror_mode": {
    "name": "ipython",
    "version": 2
   },
   "file_extension": ".py",
   "mimetype": "text/x-python",
   "name": "python",
   "nbconvert_exporter": "python",
   "pygments_lexer": "ipython2",
   "version": "2.7.6"
  }
 },
 "nbformat": 4,
 "nbformat_minor": 0
}