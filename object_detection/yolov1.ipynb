{
  "nbformat": 4,
  "nbformat_minor": 0,
  "metadata": {
    "colab": {
      "name": "yolo_v1_from_scratch.ipynb",
      "provenance": [],
      "authorship_tag": "ABX9TyN0WJsmQ7gLMnKQZQKtvM/j"
    },
    "kernelspec": {
      "name": "python3",
      "display_name": "Python 3"
    },
    "language_info": {
      "name": "python"
    }
  },
  "cells": [
    {
      "cell_type": "code",
      "metadata": {
        "colab": {
          "base_uri": "https://localhost:8080/"
        },
        "id": "jU-1Te3GyOhp",
        "outputId": "3cb46939-cfb6-4ef9-aafa-de0115c34caf"
      },
      "source": [
        "! pip install pytorch-lightning"
      ],
      "execution_count": 42,
      "outputs": [
        {
          "output_type": "stream",
          "name": "stdout",
          "text": [
            "Collecting pytorch-lightning\n",
            "  Downloading pytorch_lightning-1.4.7-py3-none-any.whl (923 kB)\n",
            "\u001b[?25l\r\u001b[K     |▍                               | 10 kB 23.2 MB/s eta 0:00:01\r\u001b[K     |▊                               | 20 kB 29.5 MB/s eta 0:00:01\r\u001b[K     |█                               | 30 kB 22.6 MB/s eta 0:00:01\r\u001b[K     |█▍                              | 40 kB 18.1 MB/s eta 0:00:01\r\u001b[K     |█▊                              | 51 kB 8.2 MB/s eta 0:00:01\r\u001b[K     |██▏                             | 61 kB 8.6 MB/s eta 0:00:01\r\u001b[K     |██▌                             | 71 kB 7.3 MB/s eta 0:00:01\r\u001b[K     |██▉                             | 81 kB 8.2 MB/s eta 0:00:01\r\u001b[K     |███▏                            | 92 kB 8.3 MB/s eta 0:00:01\r\u001b[K     |███▌                            | 102 kB 7.7 MB/s eta 0:00:01\r\u001b[K     |████                            | 112 kB 7.7 MB/s eta 0:00:01\r\u001b[K     |████▎                           | 122 kB 7.7 MB/s eta 0:00:01\r\u001b[K     |████▋                           | 133 kB 7.7 MB/s eta 0:00:01\r\u001b[K     |█████                           | 143 kB 7.7 MB/s eta 0:00:01\r\u001b[K     |█████▎                          | 153 kB 7.7 MB/s eta 0:00:01\r\u001b[K     |█████▊                          | 163 kB 7.7 MB/s eta 0:00:01\r\u001b[K     |██████                          | 174 kB 7.7 MB/s eta 0:00:01\r\u001b[K     |██████▍                         | 184 kB 7.7 MB/s eta 0:00:01\r\u001b[K     |██████▊                         | 194 kB 7.7 MB/s eta 0:00:01\r\u001b[K     |███████                         | 204 kB 7.7 MB/s eta 0:00:01\r\u001b[K     |███████▌                        | 215 kB 7.7 MB/s eta 0:00:01\r\u001b[K     |███████▉                        | 225 kB 7.7 MB/s eta 0:00:01\r\u001b[K     |████████▏                       | 235 kB 7.7 MB/s eta 0:00:01\r\u001b[K     |████████▌                       | 245 kB 7.7 MB/s eta 0:00:01\r\u001b[K     |████████▉                       | 256 kB 7.7 MB/s eta 0:00:01\r\u001b[K     |█████████▎                      | 266 kB 7.7 MB/s eta 0:00:01\r\u001b[K     |█████████▋                      | 276 kB 7.7 MB/s eta 0:00:01\r\u001b[K     |██████████                      | 286 kB 7.7 MB/s eta 0:00:01\r\u001b[K     |██████████▎                     | 296 kB 7.7 MB/s eta 0:00:01\r\u001b[K     |██████████▋                     | 307 kB 7.7 MB/s eta 0:00:01\r\u001b[K     |███████████                     | 317 kB 7.7 MB/s eta 0:00:01\r\u001b[K     |███████████▍                    | 327 kB 7.7 MB/s eta 0:00:01\r\u001b[K     |███████████▊                    | 337 kB 7.7 MB/s eta 0:00:01\r\u001b[K     |████████████                    | 348 kB 7.7 MB/s eta 0:00:01\r\u001b[K     |████████████▍                   | 358 kB 7.7 MB/s eta 0:00:01\r\u001b[K     |████████████▊                   | 368 kB 7.7 MB/s eta 0:00:01\r\u001b[K     |█████████████▏                  | 378 kB 7.7 MB/s eta 0:00:01\r\u001b[K     |█████████████▌                  | 389 kB 7.7 MB/s eta 0:00:01\r\u001b[K     |█████████████▉                  | 399 kB 7.7 MB/s eta 0:00:01\r\u001b[K     |██████████████▏                 | 409 kB 7.7 MB/s eta 0:00:01\r\u001b[K     |██████████████▌                 | 419 kB 7.7 MB/s eta 0:00:01\r\u001b[K     |███████████████                 | 430 kB 7.7 MB/s eta 0:00:01\r\u001b[K     |███████████████▎                | 440 kB 7.7 MB/s eta 0:00:01\r\u001b[K     |███████████████▋                | 450 kB 7.7 MB/s eta 0:00:01\r\u001b[K     |████████████████                | 460 kB 7.7 MB/s eta 0:00:01\r\u001b[K     |████████████████▎               | 471 kB 7.7 MB/s eta 0:00:01\r\u001b[K     |████████████████▊               | 481 kB 7.7 MB/s eta 0:00:01\r\u001b[K     |█████████████████               | 491 kB 7.7 MB/s eta 0:00:01\r\u001b[K     |█████████████████▍              | 501 kB 7.7 MB/s eta 0:00:01\r\u001b[K     |█████████████████▊              | 512 kB 7.7 MB/s eta 0:00:01\r\u001b[K     |██████████████████              | 522 kB 7.7 MB/s eta 0:00:01\r\u001b[K     |██████████████████▌             | 532 kB 7.7 MB/s eta 0:00:01\r\u001b[K     |██████████████████▉             | 542 kB 7.7 MB/s eta 0:00:01\r\u001b[K     |███████████████████▏            | 552 kB 7.7 MB/s eta 0:00:01\r\u001b[K     |███████████████████▌            | 563 kB 7.7 MB/s eta 0:00:01\r\u001b[K     |███████████████████▉            | 573 kB 7.7 MB/s eta 0:00:01\r\u001b[K     |████████████████████▏           | 583 kB 7.7 MB/s eta 0:00:01\r\u001b[K     |████████████████████▋           | 593 kB 7.7 MB/s eta 0:00:01\r\u001b[K     |█████████████████████           | 604 kB 7.7 MB/s eta 0:00:01\r\u001b[K     |█████████████████████▎          | 614 kB 7.7 MB/s eta 0:00:01\r\u001b[K     |█████████████████████▋          | 624 kB 7.7 MB/s eta 0:00:01\r\u001b[K     |██████████████████████          | 634 kB 7.7 MB/s eta 0:00:01\r\u001b[K     |██████████████████████▍         | 645 kB 7.7 MB/s eta 0:00:01\r\u001b[K     |██████████████████████▊         | 655 kB 7.7 MB/s eta 0:00:01\r\u001b[K     |███████████████████████         | 665 kB 7.7 MB/s eta 0:00:01\r\u001b[K     |███████████████████████▍        | 675 kB 7.7 MB/s eta 0:00:01\r\u001b[K     |███████████████████████▊        | 686 kB 7.7 MB/s eta 0:00:01\r\u001b[K     |████████████████████████▏       | 696 kB 7.7 MB/s eta 0:00:01\r\u001b[K     |████████████████████████▌       | 706 kB 7.7 MB/s eta 0:00:01\r\u001b[K     |████████████████████████▉       | 716 kB 7.7 MB/s eta 0:00:01\r\u001b[K     |█████████████████████████▏      | 727 kB 7.7 MB/s eta 0:00:01\r\u001b[K     |█████████████████████████▌      | 737 kB 7.7 MB/s eta 0:00:01\r\u001b[K     |██████████████████████████      | 747 kB 7.7 MB/s eta 0:00:01\r\u001b[K     |██████████████████████████▎     | 757 kB 7.7 MB/s eta 0:00:01\r\u001b[K     |██████████████████████████▋     | 768 kB 7.7 MB/s eta 0:00:01\r\u001b[K     |███████████████████████████     | 778 kB 7.7 MB/s eta 0:00:01\r\u001b[K     |███████████████████████████▎    | 788 kB 7.7 MB/s eta 0:00:01\r\u001b[K     |███████████████████████████▊    | 798 kB 7.7 MB/s eta 0:00:01\r\u001b[K     |████████████████████████████    | 808 kB 7.7 MB/s eta 0:00:01\r\u001b[K     |████████████████████████████▍   | 819 kB 7.7 MB/s eta 0:00:01\r\u001b[K     |████████████████████████████▊   | 829 kB 7.7 MB/s eta 0:00:01\r\u001b[K     |█████████████████████████████   | 839 kB 7.7 MB/s eta 0:00:01\r\u001b[K     |█████████████████████████████▍  | 849 kB 7.7 MB/s eta 0:00:01\r\u001b[K     |█████████████████████████████▉  | 860 kB 7.7 MB/s eta 0:00:01\r\u001b[K     |██████████████████████████████▏ | 870 kB 7.7 MB/s eta 0:00:01\r\u001b[K     |██████████████████████████████▌ | 880 kB 7.7 MB/s eta 0:00:01\r\u001b[K     |██████████████████████████████▉ | 890 kB 7.7 MB/s eta 0:00:01\r\u001b[K     |███████████████████████████████▏| 901 kB 7.7 MB/s eta 0:00:01\r\u001b[K     |███████████████████████████████▋| 911 kB 7.7 MB/s eta 0:00:01\r\u001b[K     |████████████████████████████████| 921 kB 7.7 MB/s eta 0:00:01\r\u001b[K     |████████████████████████████████| 923 kB 7.7 MB/s \n",
            "\u001b[?25hRequirement already satisfied: packaging>=17.0 in /usr/local/lib/python3.7/dist-packages (from pytorch-lightning) (21.0)\n",
            "Requirement already satisfied: tensorboard>=2.2.0 in /usr/local/lib/python3.7/dist-packages (from pytorch-lightning) (2.6.0)\n",
            "Collecting pyDeprecate==0.3.1\n",
            "  Downloading pyDeprecate-0.3.1-py3-none-any.whl (10 kB)\n",
            "Requirement already satisfied: torch>=1.6 in /usr/local/lib/python3.7/dist-packages (from pytorch-lightning) (1.9.0+cu102)\n",
            "Requirement already satisfied: numpy>=1.17.2 in /usr/local/lib/python3.7/dist-packages (from pytorch-lightning) (1.19.5)\n",
            "Collecting PyYAML>=5.1\n",
            "  Downloading PyYAML-5.4.1-cp37-cp37m-manylinux1_x86_64.whl (636 kB)\n",
            "\u001b[K     |████████████████████████████████| 636 kB 45.2 MB/s \n",
            "\u001b[?25hRequirement already satisfied: typing-extensions in /usr/local/lib/python3.7/dist-packages (from pytorch-lightning) (3.7.4.3)\n",
            "Collecting future>=0.17.1\n",
            "  Downloading future-0.18.2.tar.gz (829 kB)\n",
            "\u001b[K     |████████████████████████████████| 829 kB 31.0 MB/s \n",
            "\u001b[?25hCollecting fsspec[http]!=2021.06.0,>=2021.05.0\n",
            "  Downloading fsspec-2021.8.1-py3-none-any.whl (119 kB)\n",
            "\u001b[K     |████████████████████████████████| 119 kB 58.5 MB/s \n",
            "\u001b[?25hRequirement already satisfied: tqdm>=4.41.0 in /usr/local/lib/python3.7/dist-packages (from pytorch-lightning) (4.62.0)\n",
            "Collecting torchmetrics>=0.4.0\n",
            "  Downloading torchmetrics-0.5.1-py3-none-any.whl (282 kB)\n",
            "\u001b[K     |████████████████████████████████| 282 kB 38.6 MB/s \n",
            "\u001b[?25hCollecting aiohttp\n",
            "  Downloading aiohttp-3.7.4.post0-cp37-cp37m-manylinux2014_x86_64.whl (1.3 MB)\n",
            "\u001b[K     |████████████████████████████████| 1.3 MB 42.1 MB/s \n",
            "\u001b[?25hRequirement already satisfied: requests in /usr/local/lib/python3.7/dist-packages (from fsspec[http]!=2021.06.0,>=2021.05.0->pytorch-lightning) (2.23.0)\n",
            "Requirement already satisfied: pyparsing>=2.0.2 in /usr/local/lib/python3.7/dist-packages (from packaging>=17.0->pytorch-lightning) (2.4.7)\n",
            "Requirement already satisfied: tensorboard-plugin-wit>=1.6.0 in /usr/local/lib/python3.7/dist-packages (from tensorboard>=2.2.0->pytorch-lightning) (1.8.0)\n",
            "Requirement already satisfied: google-auth-oauthlib<0.5,>=0.4.1 in /usr/local/lib/python3.7/dist-packages (from tensorboard>=2.2.0->pytorch-lightning) (0.4.5)\n",
            "Requirement already satisfied: setuptools>=41.0.0 in /usr/local/lib/python3.7/dist-packages (from tensorboard>=2.2.0->pytorch-lightning) (57.4.0)\n",
            "Requirement already satisfied: google-auth<2,>=1.6.3 in /usr/local/lib/python3.7/dist-packages (from tensorboard>=2.2.0->pytorch-lightning) (1.34.0)\n",
            "Requirement already satisfied: absl-py>=0.4 in /usr/local/lib/python3.7/dist-packages (from tensorboard>=2.2.0->pytorch-lightning) (0.12.0)\n",
            "Requirement already satisfied: werkzeug>=0.11.15 in /usr/local/lib/python3.7/dist-packages (from tensorboard>=2.2.0->pytorch-lightning) (1.0.1)\n",
            "Requirement already satisfied: wheel>=0.26 in /usr/local/lib/python3.7/dist-packages (from tensorboard>=2.2.0->pytorch-lightning) (0.37.0)\n",
            "Requirement already satisfied: grpcio>=1.24.3 in /usr/local/lib/python3.7/dist-packages (from tensorboard>=2.2.0->pytorch-lightning) (1.39.0)\n",
            "Requirement already satisfied: tensorboard-data-server<0.7.0,>=0.6.0 in /usr/local/lib/python3.7/dist-packages (from tensorboard>=2.2.0->pytorch-lightning) (0.6.1)\n",
            "Requirement already satisfied: markdown>=2.6.8 in /usr/local/lib/python3.7/dist-packages (from tensorboard>=2.2.0->pytorch-lightning) (3.3.4)\n",
            "Requirement already satisfied: protobuf>=3.6.0 in /usr/local/lib/python3.7/dist-packages (from tensorboard>=2.2.0->pytorch-lightning) (3.17.3)\n",
            "Requirement already satisfied: six in /usr/local/lib/python3.7/dist-packages (from absl-py>=0.4->tensorboard>=2.2.0->pytorch-lightning) (1.15.0)\n",
            "Requirement already satisfied: pyasn1-modules>=0.2.1 in /usr/local/lib/python3.7/dist-packages (from google-auth<2,>=1.6.3->tensorboard>=2.2.0->pytorch-lightning) (0.2.8)\n",
            "Requirement already satisfied: cachetools<5.0,>=2.0.0 in /usr/local/lib/python3.7/dist-packages (from google-auth<2,>=1.6.3->tensorboard>=2.2.0->pytorch-lightning) (4.2.2)\n",
            "Requirement already satisfied: rsa<5,>=3.1.4 in /usr/local/lib/python3.7/dist-packages (from google-auth<2,>=1.6.3->tensorboard>=2.2.0->pytorch-lightning) (4.7.2)\n",
            "Requirement already satisfied: requests-oauthlib>=0.7.0 in /usr/local/lib/python3.7/dist-packages (from google-auth-oauthlib<0.5,>=0.4.1->tensorboard>=2.2.0->pytorch-lightning) (1.3.0)\n",
            "Requirement already satisfied: importlib-metadata in /usr/local/lib/python3.7/dist-packages (from markdown>=2.6.8->tensorboard>=2.2.0->pytorch-lightning) (4.6.4)\n",
            "Requirement already satisfied: pyasn1<0.5.0,>=0.4.6 in /usr/local/lib/python3.7/dist-packages (from pyasn1-modules>=0.2.1->google-auth<2,>=1.6.3->tensorboard>=2.2.0->pytorch-lightning) (0.4.8)\n",
            "Requirement already satisfied: chardet<4,>=3.0.2 in /usr/local/lib/python3.7/dist-packages (from requests->fsspec[http]!=2021.06.0,>=2021.05.0->pytorch-lightning) (3.0.4)\n",
            "Requirement already satisfied: urllib3!=1.25.0,!=1.25.1,<1.26,>=1.21.1 in /usr/local/lib/python3.7/dist-packages (from requests->fsspec[http]!=2021.06.0,>=2021.05.0->pytorch-lightning) (1.24.3)\n",
            "Requirement already satisfied: idna<3,>=2.5 in /usr/local/lib/python3.7/dist-packages (from requests->fsspec[http]!=2021.06.0,>=2021.05.0->pytorch-lightning) (2.10)\n",
            "Requirement already satisfied: certifi>=2017.4.17 in /usr/local/lib/python3.7/dist-packages (from requests->fsspec[http]!=2021.06.0,>=2021.05.0->pytorch-lightning) (2021.5.30)\n",
            "Requirement already satisfied: oauthlib>=3.0.0 in /usr/local/lib/python3.7/dist-packages (from requests-oauthlib>=0.7.0->google-auth-oauthlib<0.5,>=0.4.1->tensorboard>=2.2.0->pytorch-lightning) (3.1.1)\n",
            "Collecting yarl<2.0,>=1.0\n",
            "  Downloading yarl-1.6.3-cp37-cp37m-manylinux2014_x86_64.whl (294 kB)\n",
            "\u001b[K     |████████████████████████████████| 294 kB 72.9 MB/s \n",
            "\u001b[?25hCollecting async-timeout<4.0,>=3.0\n",
            "  Downloading async_timeout-3.0.1-py3-none-any.whl (8.2 kB)\n",
            "Requirement already satisfied: attrs>=17.3.0 in /usr/local/lib/python3.7/dist-packages (from aiohttp->fsspec[http]!=2021.06.0,>=2021.05.0->pytorch-lightning) (21.2.0)\n",
            "Collecting multidict<7.0,>=4.5\n",
            "  Downloading multidict-5.1.0-cp37-cp37m-manylinux2014_x86_64.whl (142 kB)\n",
            "\u001b[K     |████████████████████████████████| 142 kB 74.6 MB/s \n",
            "\u001b[?25hRequirement already satisfied: zipp>=0.5 in /usr/local/lib/python3.7/dist-packages (from importlib-metadata->markdown>=2.6.8->tensorboard>=2.2.0->pytorch-lightning) (3.5.0)\n",
            "Building wheels for collected packages: future\n",
            "  Building wheel for future (setup.py) ... \u001b[?25l\u001b[?25hdone\n",
            "  Created wheel for future: filename=future-0.18.2-py3-none-any.whl size=491070 sha256=d6284584087ab49ca2e216e253b0ced7fe05aab0b16267a7150e7d689c5298c9\n",
            "  Stored in directory: /root/.cache/pip/wheels/56/b0/fe/4410d17b32f1f0c3cf54cdfb2bc04d7b4b8f4ae377e2229ba0\n",
            "Successfully built future\n",
            "Installing collected packages: multidict, yarl, async-timeout, fsspec, aiohttp, torchmetrics, PyYAML, pyDeprecate, future, pytorch-lightning\n",
            "  Attempting uninstall: PyYAML\n",
            "    Found existing installation: PyYAML 3.13\n",
            "    Uninstalling PyYAML-3.13:\n",
            "      Successfully uninstalled PyYAML-3.13\n",
            "  Attempting uninstall: future\n",
            "    Found existing installation: future 0.16.0\n",
            "    Uninstalling future-0.16.0:\n",
            "      Successfully uninstalled future-0.16.0\n",
            "Successfully installed PyYAML-5.4.1 aiohttp-3.7.4.post0 async-timeout-3.0.1 fsspec-2021.8.1 future-0.18.2 multidict-5.1.0 pyDeprecate-0.3.1 pytorch-lightning-1.4.7 torchmetrics-0.5.1 yarl-1.6.3\n"
          ]
        }
      ]
    },
    {
      "cell_type": "code",
      "metadata": {
        "id": "bNQljb_PnuNo"
      },
      "source": [
        "import torch\n",
        "import torch.nn as nn\n",
        "from typing import List, Union\n",
        "import pytorch_lightning as pl"
      ],
      "execution_count": 43,
      "outputs": []
    },
    {
      "cell_type": "code",
      "metadata": {
        "id": "F89f6RLD5UBo"
      },
      "source": [
        "\"\"\" \n",
        "Information about architecture config:\n",
        "- Tuple is structured by (kernel_size, filters, stride, padding) \n",
        "- \"M\" is simply maxpooling with stride 2x2 and kernel 2x2\n",
        "- List is structured by tuples and lastly int with number of repeats\n",
        "\"\"\"\n",
        "\n",
        "architecture_config = [\n",
        "    (7, 64, 2, 3),\n",
        "    \"M\",\n",
        "    (3, 192, 1, 1),\n",
        "    \"M\",\n",
        "    (1, 128, 1, 0),\n",
        "    (3, 256, 1, 1),\n",
        "    (1, 256, 1, 0),\n",
        "    (3, 512, 1, 1),\n",
        "    \"M\",\n",
        "    [(1, 256, 1, 0), (3, 512, 1, 1), 4],\n",
        "    (1, 512, 1, 0),\n",
        "    (3, 1024, 1, 1),\n",
        "    \"M\",\n",
        "    [(1, 512, 1, 0), (3, 1024, 1, 1), 2],\n",
        "    (3, 1024, 1, 1),\n",
        "    (3, 1024, 2, 1),\n",
        "    (3, 1024, 1, 1),\n",
        "    (3, 1024, 1, 1),\n",
        "]"
      ],
      "execution_count": 2,
      "outputs": []
    },
    {
      "cell_type": "code",
      "metadata": {
        "id": "68gqhPKpn4zG"
      },
      "source": [
        "class CNNBlock(nn.Module):\n",
        "    def __init__(self, in_channels, out_channels, **kwargs):\n",
        "        super(CNNBlock, self).__init__()\n",
        "        self.conv = nn.Conv2d(in_channels, out_channels, bias=False, **kwargs)\n",
        "        self.batchnorm = nn.BatchNorm2d(out_channels)\n",
        "        self.leakyrelu = nn.LeakyReLU(0.1)\n",
        "\n",
        "    def forward(self, x):\n",
        "        return self.leakyrelu(self.batchnorm(self.conv(x)))\n",
        "\n",
        "\n",
        "class SimpleCNN(nn.Module):\n",
        "    def __init__(\n",
        "        self,\n",
        "        architecture: List[Union[tuple, str, list]],\n",
        "        in_channels: int,\n",
        "    ):\n",
        "        super(SimpleCNN, self).__init__()\n",
        "        layers = []\n",
        "        for module in architecture:\n",
        "            if type(module) is tuple:\n",
        "                layers.append(self._get_cnn_block(module, in_channels))\n",
        "                in_channels = module[1]\n",
        "            elif module == 'M':\n",
        "                layers.append(nn.MaxPool2d(\n",
        "                    kernel_size=(2, 2),\n",
        "                    stride=(2, 2),\n",
        "                ))\n",
        "            elif type(module) is list:\n",
        "                for i in range(module[-1]):\n",
        "                    for j in range(len(module) - 1):\n",
        "                        layers.append(self._get_cnn_block(module[j], in_channels))\n",
        "                        in_channels = module[j][1]\n",
        "        self.model = nn.Sequential(*layers)\n",
        "\n",
        "    @staticmethod\n",
        "    def _get_cnn_block(module: tuple, in_channels):\n",
        "        kernel_size, filters, stride, padding = module\n",
        "        return CNNBlock(\n",
        "            in_channels,\n",
        "            filters,\n",
        "            kernel_size=kernel_size,\n",
        "            stride=stride,\n",
        "            padding=padding,\n",
        "        )\n",
        "\n",
        "    def forward(self, x):\n",
        "        return self.model(x)\n",
        "\n",
        "\n",
        "class YoloV1(nn.Module):\n",
        "    def __init__(self, in_channels, split_size, num_boxes, num_classes):\n",
        "        super(YoloV1, self).__init__()\n",
        "        self.darknet = SimpleCNN(architecture_config, in_channels)\n",
        "        \n",
        "        S, B, C = split_size, num_boxes, num_classes\n",
        "        self.fcs = nn.Sequential(\n",
        "            nn.Flatten(),\n",
        "            \n",
        "            nn.Linear(1024 * S * S, 496),\n",
        "            nn.Dropout(0.1),\n",
        "            nn.LeakyReLU(0.1),\n",
        "            \n",
        "            nn.Linear(496, S * S * (C + B * 5)),\n",
        "        )\n",
        "        self.final_shape = (-1, S, S, (C + B * 5))\n",
        "\n",
        "    def forward(self, x):\n",
        "        x = self.darknet(x)\n",
        "        out = self.fcs(torch.flatten(x, start_dim=1))\n",
        "        out = out.view(self.final_shape)\n",
        "        return out"
      ],
      "execution_count": 39,
      "outputs": []
    },
    {
      "cell_type": "code",
      "metadata": {
        "colab": {
          "base_uri": "https://localhost:8080/"
        },
        "id": "HHoJUaxxt0qY",
        "outputId": "738343c6-db11-40e0-b500-9399f91c0d1c"
      },
      "source": [
        "model = YoloV1(in_channels=3, split_size=7, num_boxes=2, num_classes=21)\n",
        "random_batch = torch.rand((2, 3, 448, 448))\n",
        "random_output = model(random_batch)\n",
        "random_output.shape"
      ],
      "execution_count": 40,
      "outputs": [
        {
          "output_type": "stream",
          "name": "stdout",
          "text": [
            "torch.Size([2, 1519])\n",
            "torch.Size([2, 7, 7, 31])\n",
            "torch.Size([2, 7, 7, 31])\n",
            "(-1, 7, 7, 31)\n"
          ]
        },
        {
          "output_type": "execute_result",
          "data": {
            "text/plain": [
              "torch.Size([2, 7, 7, 31])"
            ]
          },
          "metadata": {},
          "execution_count": 40
        }
      ]
    },
    {
      "cell_type": "code",
      "metadata": {
        "id": "ynhpw1GN0Vx5"
      },
      "source": [
        "class YoloV1Loss(nn.Module):\n",
        "    def __init__(self, num_boxes: int, num_classes: int):\n",
        "        super().__init__()\n",
        "        \n",
        "        self.num_boxes = num_boxes\n",
        "        self.num_classes = num_classes\n",
        "\n",
        "    def forward(self, pred, true):\n",
        "        pass\n"
      ],
      "execution_count": null,
      "outputs": []
    },
    {
      "cell_type": "code",
      "metadata": {
        "id": "DAsmIx-muh0t"
      },
      "source": [
        "class YoloV1PL(pl.LightningModule):\n",
        "    def __init__(self):\n",
        "        super().__init__()\n",
        "        self.yolo_v1 = YoloV1(\n",
        "            in_channels=3,\n",
        "            split_size=7,\n",
        "            num_boxes=2,\n",
        "            num_classes=21\n",
        "        )\n",
        "\n",
        "    def forward(self, x):\n",
        "        return self.yolo_v1(x)\n",
        "\n",
        "    def configure_optimizers(self):\n",
        "        return torch.optim.Adam(self.parameters(), lr=1e-3)\n",
        "    \n",
        "    def training_step(self, train_batch, batch_idx):\n",
        "        x, y = train_batch\n",
        "        x = x.view(x.size(0), -1)\n",
        "        z = self.encoder(x)    \n",
        "        x_hat = self.decoder(z)\n",
        "        loss = F.mse_loss(x_hat, x)\n",
        "        self.log('train_loss', loss)\n",
        "        return loss\n",
        "    \n",
        "    def validation_step(self, val_batch, batch_idx):\n",
        "        x, y = val_batch\n",
        "        x = x.view(x.size(0), -1)\n",
        "        z = self.encoder(x)\n",
        "        x_hat = self.decoder(z)\n",
        "        loss = F.mse_loss(x_hat, x)\n",
        "        self.log('val_loss', loss)\n",
        "    \n",
        "    \n"
      ],
      "execution_count": null,
      "outputs": []
    }
  ]
}